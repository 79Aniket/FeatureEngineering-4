{
 "cells": [
  {
   "cell_type": "markdown",
   "id": "055d42c2-cdb1-4b45-a33a-c5788b994ea6",
   "metadata": {},
   "source": [
    "## Q1. What is data encoding? How is it useful in data science?"
   ]
  },
  {
   "cell_type": "markdown",
   "id": "fa1cc1f7-496e-456e-967e-0e68efdfa8f3",
   "metadata": {},
   "source": [
    "## Encoding is the process of converting the data or a given sequence of characters, symbols, alphabets etc., into a specified format, for the secured transmission of data.\n",
    "\n",
    "## In data science, encoding is often used to convert categorical data into numerical data. This is because many machine learning algorithms only work with numerical data.\n",
    "## One-hot encoding, Label encoding, Hashing encoding."
   ]
  },
  {
   "cell_type": "code",
   "execution_count": null,
   "id": "543efbea-1bd6-4aea-b1ca-d265600a631b",
   "metadata": {},
   "outputs": [],
   "source": []
  },
  {
   "cell_type": "markdown",
   "id": "f2caebff-62ea-4650-9606-b62c9faa4e54",
   "metadata": {},
   "source": [
    "## Q2. What is nominal encoding? Provide an example of how you would use it in a real-world scenario."
   ]
  },
  {
   "cell_type": "markdown",
   "id": "05aad138-7a62-4125-a587-2d8a2438db8e",
   "metadata": {},
   "source": [
    "## Nominal encoding: Nominal encoding is technique used to transform categorical variables that have intrinsis ordering into numerical values that can be uded in machine learning models one common methord for nominal encoding is one hot encoding . which creats a binary vector for each category in the variable.\n",
    "\n",
    "## Example :  the categories \"red\", \"green\", and \"blue\" in a color feature are nominal.To encode nominal data, we assign each category a unique integer. For example, we could assign the integer 0 to \"red\", the integer 1 to \"green\", and the integer 2 to \"blue\". This allows us to represent the categorical data as numerical data, which can then be used by machine learning algorithms."
   ]
  },
  {
   "cell_type": "code",
   "execution_count": null,
   "id": "6dd3394b-e6d0-425d-980f-6fd2bb7d329b",
   "metadata": {},
   "outputs": [],
   "source": []
  },
  {
   "cell_type": "markdown",
   "id": "0734ea4a-f70a-482d-8f7a-5d501c9b5894",
   "metadata": {},
   "source": [
    "## Q3. In what situations is nominal encoding preferred over one-hot encoding? Provide a practical example."
   ]
  },
  {
   "cell_type": "markdown",
   "id": "4841366d-a7a3-40c4-9e9b-68c67fe08292",
   "metadata": {},
   "source": [
    "### Nominal encoding is preferred over one-hot encoding in situations where the categorical features do not have any inherent order.\n",
    "\n",
    "## Example : When the categorical features have a large number of levels. One-hot encoding can quickly increase the dimensionality of the data, which can make it difficult for machine learning models to learn. Nominal encoding can help to reduce the dimensionality of the data without losing information."
   ]
  },
  {
   "cell_type": "code",
   "execution_count": null,
   "id": "198603d0-e74b-4461-9ca6-10298d88304d",
   "metadata": {},
   "outputs": [],
   "source": []
  },
  {
   "cell_type": "markdown",
   "id": "79c346ad-0191-4bd7-a280-9f6833c3dd87",
   "metadata": {},
   "source": [
    "##  Q5. In a machine learning project, you have a dataset with 1000 rows and 5 columns. Two of the columns are categorical, and the remaining three columns are numerical. If you were to use nominal encoding to transform the categorical data, how many new columns would be created? Show your calculations."
   ]
  },
  {
   "cell_type": "markdown",
   "id": "c4f0ee0e-c741-42af-b1cb-c52726a122da",
   "metadata": {},
   "source": [
    "## If you were to use nominal encoding to transform the categorical data in a machine learning project with 1000 rows and 5 columns, where two of the columns are categorical, then 2 new columns would be created.\n",
    "\n",
    "## There are 2 categorical columns in the dataset.\n",
    "## For each categorical column, a new column will be created for each unique category in the column.\n",
    "## In this case, there are 5 unique categories in each categorical column.\n",
    "## Therefore, 2 * 5 = 10 new columns would be created."
   ]
  },
  {
   "cell_type": "code",
   "execution_count": null,
   "id": "09c69de7-086d-4857-a5db-a25b43bac15a",
   "metadata": {},
   "outputs": [],
   "source": []
  },
  {
   "cell_type": "code",
   "execution_count": null,
   "id": "5e96579d-b1e0-487d-bf69-de0abbf583d2",
   "metadata": {},
   "outputs": [],
   "source": []
  }
 ],
 "metadata": {
  "kernelspec": {
   "display_name": "Python 3 (ipykernel)",
   "language": "python",
   "name": "python3"
  },
  "language_info": {
   "codemirror_mode": {
    "name": "ipython",
    "version": 3
   },
   "file_extension": ".py",
   "mimetype": "text/x-python",
   "name": "python",
   "nbconvert_exporter": "python",
   "pygments_lexer": "ipython3",
   "version": "3.10.8"
  }
 },
 "nbformat": 4,
 "nbformat_minor": 5
}
